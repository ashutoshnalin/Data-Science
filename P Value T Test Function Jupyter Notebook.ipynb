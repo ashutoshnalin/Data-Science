{
 "cells": [
  {
   "cell_type": "code",
   "execution_count": 7,
   "metadata": {},
   "outputs": [
    {
     "name": "stdout",
     "output_type": "stream",
     "text": [
      "   Index  RateGroup1  RateGroup2\n",
      "0      1    0.000497    0.000166\n",
      "1      2    0.000286    0.000210\n",
      "2      3    0.000260    0.000177\n",
      "3      4    0.000250    0.001541\n",
      "4      5    0.000284    0.000490\n",
      "5      6    0.000380    0.000527\n",
      "6      7    0.000248    0.000514\n",
      "7      8    0.000207    0.000667\n"
     ]
    }
   ],
   "source": [
    "# Import libraries\n",
    "import pandas as pd\n",
    "from numpy import cov\n",
    "from numpy import mean\n",
    "from scipy.stats import pearsonr\n",
    "from scipy.stats import ttest_rel\n",
    "from scipy.stats import t\n",
    "\n",
    "# Load Excel file\n",
    "df = pd.read_excel (r'P_Value T_Test Function.xlsx')\n",
    "print (df)"
   ]
  },
  {
   "cell_type": "code",
   "execution_count": 8,
   "metadata": {},
   "outputs": [
    {
     "data": {
      "text/plain": [
       "0    0.000497\n",
       "1    0.000286\n",
       "2    0.000260\n",
       "3    0.000250\n",
       "4    0.000284\n",
       "5    0.000380\n",
       "6    0.000248\n",
       "7    0.000207\n",
       "Name: RateGroup1, dtype: float64"
      ]
     },
     "execution_count": 8,
     "metadata": {},
     "output_type": "execute_result"
    }
   ],
   "source": [
    "# data1\n",
    "data1 = df['RateGroup1']\n",
    "data1"
   ]
  },
  {
   "cell_type": "code",
   "execution_count": 9,
   "metadata": {},
   "outputs": [
    {
     "data": {
      "text/plain": [
       "0    0.000166\n",
       "1    0.000210\n",
       "2    0.000177\n",
       "3    0.001541\n",
       "4    0.000490\n",
       "5    0.000527\n",
       "6    0.000514\n",
       "7    0.000667\n",
       "Name: RateGroup2, dtype: float64"
      ]
     },
     "execution_count": 9,
     "metadata": {},
     "output_type": "execute_result"
    }
   ],
   "source": [
    "# data2\n",
    "data2 = df['RateGroup2']\n",
    "data2"
   ]
  },
  {
   "cell_type": "code",
   "execution_count": 10,
   "metadata": {},
   "outputs": [
    {
     "name": "stdout",
     "output_type": "stream",
     "text": [
      "mean1= 0.000302, mean2= 0.000536\n",
      "Covariance matrix: [[ 8.73938472e-09 -1.64755527e-08]\n",
      " [-1.64755527e-08  2.00421762e-07]]\n",
      "Observations= 8\n",
      "Pearsons correlation: -0.39367\n",
      "df= 7\n",
      "t_stat=-1.349561, p 2-tail=0.219172\n",
      "Probably the same distribution\n",
      "cv 2-tail= 2.364624\n",
      "Accept null hypothesis that the means are equal.\n",
      "Hypothesized Mean Difference = 0\n",
      "Accept null hypothesis that the means are equal.\n",
      "Hypothesized Mean Difference = 0\n",
      "p 1-tail= 0.109586\n",
      "cv 1-tail= 1.894579\n"
     ]
    }
   ],
   "source": [
    "# calculate mean1, mean2\n",
    "mean1, mean2 = mean(data1), mean(data2)\n",
    "print('mean1= %.6f, mean2= %.6f' % (mean1, mean2))\n",
    "\n",
    "# calculate covariance matrix\n",
    "covariance = cov(data1, data2)\n",
    "print(\"Covariance matrix:\", covariance)\n",
    "\n",
    "# number of paired samples / observations\n",
    "n = len(df)\n",
    "print('Observations=', n)\n",
    "\n",
    "# calculate Pearson's correlation coefficient\n",
    "corr, _ = pearsonr(data1, data2)\n",
    "# high level of correlation, e.g. a value above 0.5 and close to 1.0\n",
    "# The coefficient returns a value between -1 and 1 that represents the limits of correlation from a full negative correlation\n",
    "# to a full positive correlation. A value of 0 means no correlation. The value must be interpreted, \n",
    "# where often a value below -0.5 or above 0.5 indicates a notable correlation, \n",
    "# and values below those values suggests a less notable correlation.\n",
    "print('Pearsons correlation: %.5f' % corr)\n",
    "\n",
    "# degrees of freedom\n",
    "df = n - 1\n",
    "print('df=', (df))\n",
    "\n",
    "# calculate t-stat and p value\n",
    "t_stat, p = ttest_rel(data1, data2) # two tail\n",
    "print('t_stat=%.6f, p 2-tail=%.6f' % (t_stat, p))\n",
    "if p > 0.05:\n",
    "    print('Probably the same distribution')\n",
    "else:\n",
    "    print('Probably different distributions')\n",
    "\n",
    "# calculate the critical value with two tail\n",
    "alpha = 0.025\n",
    "cv = t.ppf(1.0 - alpha, df)\n",
    "print('cv 2-tail= %.6f' % cv)\n",
    "\n",
    "# interpret via critical value\n",
    "if abs(t_stat) <= cv:\n",
    "    print('Accept null hypothesis that the means are equal.')\n",
    "    print('Hypothesized Mean Difference = 0') # hypothesize there’s no difference, enter 0\n",
    "else:\n",
    "    print('Reject the null hypothesis that the means are equal.')\n",
    "\n",
    "# interpret via p-value\n",
    "if p > alpha:\n",
    "    print('Accept null hypothesis that the means are equal.')\n",
    "    print('Hypothesized Mean Difference = 0') # hypothesize there’s no difference, enter 0\n",
    "else:\n",
    "    print('Reject the null hypothesis that the means are equal.')\n",
    "\n",
    "# calculate the p-value with one-tail\n",
    "p1 = (1.0 - t.cdf(abs(t_stat), df)) * 1.0 # one tail\n",
    "print('p 1-tail= %.6f' % p1)\n",
    "\n",
    "# calculate the critical value with one tail\n",
    "alpha = 0.05\n",
    "cv1 = t.ppf(1.0 - alpha, df)\n",
    "print('cv 1-tail= %.6f' % cv1)\n",
    "\n",
    "# calculate the critical value\n",
    "# cv01, cv05, cv10 = t.ppf([1-0.03, 1-0.05, 1-0.10], df)\n",
    "# print('cv01= %.6f, cv05= %.6f, cv10=%.6f' % (cv01, cv05, cv10))\n",
    "\n",
    "\n"
   ]
  }
 ],
 "metadata": {
  "kernelspec": {
   "display_name": "Python 3",
   "language": "python",
   "name": "python3"
  },
  "language_info": {
   "codemirror_mode": {
    "name": "ipython",
    "version": 3
   },
   "file_extension": ".py",
   "mimetype": "text/x-python",
   "name": "python",
   "nbconvert_exporter": "python",
   "pygments_lexer": "ipython3",
   "version": "3.6.5"
  }
 },
 "nbformat": 4,
 "nbformat_minor": 2
}
